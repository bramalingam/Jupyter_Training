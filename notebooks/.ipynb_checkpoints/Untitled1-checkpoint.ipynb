{
 "cells": [
  {
   "cell_type": "code",
   "execution_count": 1,
   "metadata": {},
   "outputs": [
    {
     "name": "stdout",
     "output_type": "stream",
     "text": [
      "Fetching package metadata .............\n",
      "Solving package specifications: .\n",
      "\n",
      "Package plan for installation in environment /Users/bramalingam/Documents/Anaconda_Training/anaconda2/envs/ipykernel_py3:\n",
      "\n",
      "The following NEW packages will be INSTALLED:\n",
      "\n",
      "    blas:        1.1-openblas                  conda-forge\n",
      "    bzip2:       1.0.6-1                       conda-forge\n",
      "    cairo:       1.14.6-4                      conda-forge\n",
      "    ffmpeg:      3.2.4-1                       conda-forge\n",
      "    fontconfig:  2.12.1-4                      conda-forge\n",
      "    freetype:    2.7-1                         conda-forge\n",
      "    gettext:     0.19.8.1-0                    conda-forge\n",
      "    giflib:      5.1.4-0                       conda-forge\n",
      "    glib:        2.51.4-0                      conda-forge\n",
      "    harfbuzz:    1.3.4-2                       conda-forge\n",
      "    hdf5:        1.8.18-0                      conda-forge\n",
      "    icu:         58.1-1                        conda-forge\n",
      "    jasper:      1.900.1-4                     conda-forge\n",
      "    jpeg:        9b-1                          conda-forge\n",
      "    libgfortran: 3.0.0-0                       conda-forge\n",
      "    libiconv:    1.14-4                        conda-forge\n",
      "    libpng:      1.6.28-0                      conda-forge\n",
      "    libtiff:     4.0.6-7                       conda-forge\n",
      "    libwebp:     0.5.2-7                       conda-forge\n",
      "    libxml2:     2.9.5-0                       conda-forge\n",
      "    numpy:       1.13.3-py36_blas_openblas_200 conda-forge [blas_openblas]\n",
      "    openblas:    0.2.19-2                      conda-forge\n",
      "    opencv:      3.3.0-py36_blas_openblas_200  conda-forge [blas_openblas]\n",
      "    pcre:        8.39-0                        conda-forge\n",
      "    pixman:      0.34.0-0                      conda-forge\n",
      "    x264:        20131217-3                    conda-forge\n",
      "\n",
      "libgfortran-3. 100% |################################| Time: 0:00:00 783.58 kB/s\n",
      "libpng-1.6.28- 100% |################################| Time: 0:00:00   1.74 MB/s\n",
      "numpy-1.13.3-p 100% |################################| Time: 0:00:01   2.24 MB/s       | Time: 0:00:00   1.01 MB/s3-p  42% |#############                   | Time: 0:00:01   1.40 MB/sme: 0:00:01   1.70 MB/s#########################      | Time: 0:00:01   2.02 MB/s\n",
      "opencv-3.3.0-p 100% |################################| Time: 0:00:03   9.94 MB/s       | Time: 0:00:00   4.41 MB/s0-p   4% |#                               | Time: 0:00:00   4.46 MB/sme: 0:00:00   4.52 MB/s#                              | Time: 0:00:00   5.08 MB/s   5.54 MB/s                    | Time: 0:00:00   5.92 MB/ss         | Time: 0:00:01   6.48 MB/s3.0-p  19% |######                          | Time: 0:00:01   6.77 MB/sTime: 0:00:01   7.01 MB/s|#######                         | Time: 0:00:01   7.19 MB/s01   7.35 MB/s                      | Time: 0:00:01   7.72 MB/sB/s           | Time: 0:00:01   8.03 MB/sp  33% |##########                      | Time: 0:00:01   8.03 MB/s3.3.0-p  35% |###########                     | Time: 0:00:01   8.12 MB/s| Time: 0:00:01   8.20 MB/s% |############                    | Time: 0:00:01   8.47 MB/s0:01   8.51 MB/s######                  | Time: 0:00:01   8.64 MB/s MB/s             | Time: 0:00:02   8.76 MB/sv-3.3.0-p  51% |################                | Time: 0:00:02   8.79 MB/s  | Time: 0:00:02   9.00 MB/s55% |#################               | Time: 0:00:02   9.07 MB/s:00:02   9.10 MB/s#############             | Time: 0:00:02   9.14 MB/s17 MB/s###            | Time: 0:00:02   9.33 MB/sncv-3.3.0-p  66% |#####################           | Time: 0:00:02   9.37 MB/s    | Time: 0:00:02   9.39 MB/s  71% |######################          | Time: 0:00:02   9.42 MB/s 0:00:02   9.44 MB/s9.61 MB/s##########       | Time: 0:00:03   9.61 MB/spencv-3.3.0-p  82% |##########################      | Time: 0:00:03   9.63 MB/s      | Time: 0:00:03   9.66 MB/s-p  86% |###########################     | Time: 0:00:03   9.67 MB/se: 0:00:03   9.80 MB/s###########################   | Time: 0:00:03   9.81 MB/s  9.81 MB/s#################  | Time: 0:00:03   9.83 MB/s\n"
     ]
    }
   ],
   "source": [
    "!conda install -c conda-forge opencv -y"
   ]
  },
  {
   "cell_type": "code",
   "execution_count": 3,
   "metadata": {},
   "outputs": [
    {
     "name": "stdout",
     "output_type": "stream",
     "text": [
      "Collecting matplotlib\n",
      "  Downloading matplotlib-2.1.0-cp36-cp36m-macosx_10_6_intel.macosx_10_9_intel.macosx_10_9_x86_64.macosx_10_10_intel.macosx_10_10_x86_64.whl (13.2MB)\n",
      "\u001b[K    100% |████████████████████████████████| 13.2MB 124kB/s eta 0:00:01   64% |████████████████████▋           | 8.5MB 61.5MB/s eta 0:00:01\n",
      "\u001b[?25hCollecting pyparsing!=2.0.4,!=2.1.2,!=2.1.6,>=2.0.1 (from matplotlib)\n",
      "  Using cached pyparsing-2.2.0-py2.py3-none-any.whl\n",
      "Requirement already satisfied: numpy>=1.7.1 in /Users/bramalingam/Documents/Anaconda_Training/anaconda2/envs/ipykernel_py3/lib/python3.6/site-packages (from matplotlib)\n",
      "Collecting cycler>=0.10 (from matplotlib)\n",
      "  Using cached cycler-0.10.0-py2.py3-none-any.whl\n",
      "Requirement already satisfied: python-dateutil>=2.0 in /Users/bramalingam/Documents/Anaconda_Training/anaconda2/envs/ipykernel_py3/lib/python3.6/site-packages (from matplotlib)\n",
      "Collecting pytz (from matplotlib)\n",
      "  Using cached pytz-2017.2-py2.py3-none-any.whl\n",
      "Requirement already satisfied: six>=1.10 in /Users/bramalingam/Documents/Anaconda_Training/anaconda2/envs/ipykernel_py3/lib/python3.6/site-packages (from matplotlib)\n",
      "Installing collected packages: pyparsing, cycler, pytz, matplotlib\n",
      "Successfully installed cycler-0.10.0 matplotlib-2.1.0 pyparsing-2.2.0 pytz-2017.2\n"
     ]
    }
   ],
   "source": [
    "!pip install matplotlib"
   ]
  },
  {
   "cell_type": "code",
   "execution_count": 6,
   "metadata": {},
   "outputs": [],
   "source": [
    "import numpy as np\n",
    "import cv2\n",
    "from matplotlib import pyplot as plt\n",
    "\n",
    "img = cv2.imread('/Users/bramalingam/Desktop/BacteriaSingleSlice.tif')\n",
    "gray = cv2.cvtColor(img,cv2.COLOR_BGR2GRAY)\n",
    "ret, thresh = cv2.threshold(gray,0,255,cv2.THRESH_BINARY_INV+cv2.THRESH_OTSU)"
   ]
  },
  {
   "cell_type": "code",
   "execution_count": 7,
   "metadata": {},
   "outputs": [],
   "source": []
  },
  {
   "cell_type": "code",
   "execution_count": null,
   "metadata": {
    "collapsed": true
   },
   "outputs": [],
   "source": []
  }
 ],
 "metadata": {
  "kernelspec": {
   "display_name": "Python 3",
   "language": "python",
   "name": "python3"
  },
  "language_info": {
   "codemirror_mode": {
    "name": "ipython",
    "version": 3
   },
   "file_extension": ".py",
   "mimetype": "text/x-python",
   "name": "python",
   "nbconvert_exporter": "python",
   "pygments_lexer": "ipython3",
   "version": "3.6.3"
  }
 },
 "nbformat": 4,
 "nbformat_minor": 2
}
