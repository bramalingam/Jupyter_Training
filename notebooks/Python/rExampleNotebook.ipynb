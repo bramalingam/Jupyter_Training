{
 "cells": [
  {
   "cell_type": "code",
   "execution_count": 1,
   "metadata": {},
   "outputs": [
    {
     "name": "stderr",
     "output_type": "stream",
     "text": [
      "also installing the dependencies ‘memoise’, ‘whisker’, ‘rstudioapi’, ‘praise’, ‘brew’, ‘desc’, ‘commonmark’\n",
      "\n",
      "Warning message in install.packages(toInstall, repos = \"http://cran.us.r-project.org\"):\n",
      "“installation of package ‘roxygen2’ had non-zero exit status”Updating HTML index of packages in '.Library'\n",
      "Making 'packages.html' ... done\n"
     ]
    },
    {
     "name": "stdout",
     "output_type": "stream",
     "text": [
      "Building romero.gateway based on branch bump_to_5_4_0 from user bramalingam \n",
      "cloning into '/var/folders/dn/gg51b_916y32tzb0jf8yrjm5pnxwm5/T//RtmptNbRc7/romero-gateway'...\n",
      "Receiving objects:   1% (6/531),    8 kb\n",
      "Receiving objects:  11% (59/531),   16 kb\n",
      "Receiving objects:  21% (112/531),   32 kb\n",
      "Receiving objects:  31% (165/531),   41 kb\n",
      "Receiving objects:  41% (218/531),   56 kb\n",
      "Receiving objects:  51% (271/531),   56 kb\n",
      "Receiving objects:  61% (324/531),   64 kb\n",
      "Receiving objects:  71% (378/531),   72 kb\n",
      "Receiving objects:  81% (431/531),   80 kb\n",
      "Receiving objects:  91% (484/531),   87 kb\n",
      "Receiving objects: 100% (531/531),   87 kb, done.\n"
     ]
    },
    {
     "name": "stderr",
     "output_type": "stream",
     "text": [
      "'/Users/bramalingam/Documents/Jupyter_Training/anaconda2/envs/my-r-env/lib/R/bin/R'  \\\n",
      "  --no-site-file --no-environ --no-save --no-restore --quiet CMD build  \\\n",
      "  '/private/var/folders/dn/gg51b_916y32tzb0jf8yrjm5pnxwm5/T/RtmptNbRc7/romero-gateway'  \\\n",
      "  --no-resave-data --no-manual \n",
      "\n"
     ]
    }
   ],
   "source": [
    "# Specifiy a branch to build/install:\n",
    "user <- 'bramalingam'\n",
    "branchName <- 'bump_to_5_4_0'\n",
    "\n",
    "# -- Don't edit anything below this line --\n",
    "\n",
    "# Install necessary packages\n",
    "libs <- c('rJava', 'devtools', 'testthat', 'roxygen2', 'xml2', 'httr', 'git2r', 'jpeg')\n",
    "toInstall <- libs[!(libs %in% installed.packages()[,\"Package\"])]\n",
    "if (length(toInstall) > 0) {\n",
    "  install.packages(toInstall, repos='http://cran.us.r-project.org')\n",
    "}\n",
    "\n",
    "# Load packages\n",
    "library(devtools)\n",
    "library(git2r)\n",
    "\n",
    "args <- commandArgs(trailingOnly = TRUE)\n",
    "localBuild <- FALSE\n",
    "if (length(args) > 0) {\n",
    "  for (arg in args) {\n",
    "    if (arg == '--local')\n",
    "      localBuild <- TRUE\n",
    "    if (startsWith(arg, '--user='))\n",
    "      user <- gsub(\"--user=\", \"\", arg)\n",
    "    if (startsWith(arg, '--branch='))\n",
    "      branchName <- gsub(\"--branch=\", \"\", arg)\n",
    "  }\n",
    "}\n",
    "if (!localBuild) {\n",
    "  cat('Building romero.gateway based on branch', branchName, 'from user', user, '\\n')\n",
    "  # Clone the git repository\n",
    "  repoDir <- paste(tempdir(),'romero-gateway', sep=\"/\")\n",
    "  dir.create(repoDir)\n",
    "  repoURL <- paste('https://github.com/', user, '/rOMERO.git', sep = '')\n",
    "  ret <- git2r::clone(repoURL, branch=branchName, local_path = repoDir)\n",
    "  if (is.null(ret)) {\n",
    "    print('Git clone failed.')\n",
    "    quit(save = 'no', status = 1, runLast = FALSE)\n",
    "  }\n",
    "  setwd(repoDir)\n",
    "} else {\n",
    "  print('Performing local romero.gateway build')\n",
    "}\n",
    "\n",
    "# Run Maven to fetch the java dependencies\n",
    "ret <- system2('mvn', args = c('install'))\n",
    "if ( ret != 0) {\n",
    "  print('Maven execution failed.')\n",
    "  quit(save = 'no', status = ret, runLast = FALSE)\n",
    "}\n",
    "\n",
    "# Build the romero.gateway package\n",
    "packageFile <- devtools::build(path = '.')\n",
    "if (is.null(packageFile)) {\n",
    "  print('Build failed.')\n",
    "  quit(save = 'no', status = 1, runLast = FALSE)\n",
    "}\n",
    "\n",
    "# Install it\n",
    "install.packages(packageFile, repos = NULL, type = \"source\")"
   ]
  },
  {
   "cell_type": "code",
   "execution_count": 2,
   "metadata": {},
   "outputs": [
    {
     "name": "stderr",
     "output_type": "stream",
     "text": [
      "Loading required package: rJava\n",
      "\n",
      "Attaching package: ‘rJava’\n",
      "\n",
      "The following object is masked from ‘package:git2r’:\n",
      "\n",
      "    clone\n",
      "\n",
      "Loading required package: jpeg\n",
      "Warning message:\n",
      "“replacing previous import ‘rJava::tail’ by ‘utils::tail’ when loading ‘romero.gateway’”Warning message:\n",
      "“replacing previous import ‘rJava::str’ by ‘utils::str’ when loading ‘romero.gateway’”Warning message:\n",
      "“replacing previous import ‘rJava::head’ by ‘utils::head’ when loading ‘romero.gateway’”\n",
      "*** Welcome to rOMERO ***\n",
      "\n",
      "Warning message in read.table(server@credentialsFile, header = FALSE, sep = \"=\", :\n",
      "“incomplete final line found by readTableHeader on '/Users/bramalingam/Documents/Jupyter_Training/notebooks/login_credentials.txt'”"
     ]
    },
    {
     "data": {
      "text/plain": [
       "      Area           Width      \n",
       " Min.   :  2.0   Min.   :  5.0  \n",
       " 1st Qu.: 37.0   1st Qu.: 60.0  \n",
       " Median : 91.5   Median :126.5  \n",
       " Mean   :101.5   Mean   :124.3  \n",
       " 3rd Qu.:177.0   3rd Qu.:202.0  \n",
       " Max.   :219.0   Max.   :228.0  "
      ]
     },
     "metadata": {},
     "output_type": "display_data"
    },
    {
     "data": {
      "text/plain": [
       "      Area           Width      \n",
       " Min.   :  2.0   Min.   :  5.0  \n",
       " 1st Qu.: 37.0   1st Qu.: 60.0  \n",
       " Median : 91.5   Median :126.5  \n",
       " Mean   :101.5   Mean   :124.3  \n",
       " 3rd Qu.:177.0   3rd Qu.:202.0  \n",
       " Max.   :219.0   Max.   :228.0  "
      ]
     },
     "metadata": {},
     "output_type": "display_data"
    },
    {
     "data": {
      "text/plain": [
       "An object of class \"OMERO\"\n",
       "Slot \"server\":\n",
       "An object of class \"OMEROServer\"\n",
       "Slot \"host\":\n",
       "character(0)\n",
       "\n",
       "Slot \"port\":\n",
       "[1] 0\n",
       "\n",
       "Slot \"username\":\n",
       "character(0)\n",
       "\n",
       "Slot \"password\":\n",
       "character(0)\n",
       "\n",
       "Slot \"credentialsFile\":\n",
       "[1] \"/Users/bramalingam/Documents/Jupyter_Training/notebooks/login_credentials.txt\"\n",
       "\n",
       "Slot \"gateway\":\n",
       "[1] \"Java-Object{omero.gateway.Gateway@345f69f3}\"\n",
       "\n",
       "Slot \"user\":\n",
       "[1] \"Java-Object{omero.gateway.model.ExperimenterData (id=8)}\"\n",
       "\n",
       "Slot \"ctx\":\n",
       "[1] \"Java-Object{SecurityContext [groupID=9, experimenter=null, sudo=false, serverInformation=null, compression=0.85]}\"\n",
       "\n",
       "\n",
       "Slot \"dataobject\":\n",
       "[1] \"Java-Object{omero.gateway.model.FileAnnotationData (id=32251)}\"\n"
      ]
     },
     "metadata": {},
     "output_type": "display_data"
    },
    {
     "data": {
      "text/html": [
       "<strong>pdf:</strong> 2"
      ],
      "text/latex": [
       "\\textbf{pdf:} 2"
      ],
      "text/markdown": [
       "**pdf:** 2"
      ],
      "text/plain": [
       "pdf \n",
       "  2 "
      ]
     },
     "metadata": {},
     "output_type": "display_data"
    },
    {
     "data": {
      "text/plain": [
       "An object of class \"OMERO\"\n",
       "Slot \"server\":\n",
       "An object of class \"OMEROServer\"\n",
       "Slot \"host\":\n",
       "character(0)\n",
       "\n",
       "Slot \"port\":\n",
       "[1] 0\n",
       "\n",
       "Slot \"username\":\n",
       "character(0)\n",
       "\n",
       "Slot \"password\":\n",
       "character(0)\n",
       "\n",
       "Slot \"credentialsFile\":\n",
       "[1] \"/Users/bramalingam/Documents/Jupyter_Training/notebooks/login_credentials.txt\"\n",
       "\n",
       "Slot \"gateway\":\n",
       "[1] \"Java-Object{omero.gateway.Gateway@345f69f3}\"\n",
       "\n",
       "Slot \"user\":\n",
       "[1] \"Java-Object{omero.gateway.model.ExperimenterData (id=8)}\"\n",
       "\n",
       "Slot \"ctx\":\n",
       "[1] \"Java-Object{SecurityContext [groupID=9, experimenter=null, sudo=false, serverInformation=null, compression=0.85]}\"\n",
       "\n",
       "\n",
       "Slot \"dataobject\":\n",
       "[1] \"Java-Object{omero.gateway.model.FileAnnotationData (id=32252)}\"\n"
      ]
     },
     "metadata": {},
     "output_type": "display_data"
    },
    {
     "data": {
      "text/plain": [
       "An object of class \"OMEROServer\"\n",
       "Slot \"host\":\n",
       "character(0)\n",
       "\n",
       "Slot \"port\":\n",
       "[1] 0\n",
       "\n",
       "Slot \"username\":\n",
       "character(0)\n",
       "\n",
       "Slot \"password\":\n",
       "character(0)\n",
       "\n",
       "Slot \"credentialsFile\":\n",
       "[1] \"/Users/bramalingam/Documents/Jupyter_Training/notebooks/login_credentials.txt\"\n",
       "\n",
       "Slot \"gateway\":\n",
       "[1] \"Java-Object{omero.gateway.Gateway@345f69f3}\"\n",
       "\n",
       "Slot \"user\":\n",
       "[1] \"Java-Object{omero.gateway.model.ExperimenterData (id=8)}\"\n",
       "\n",
       "Slot \"ctx\":\n",
       "[1] \"Java-Object{SecurityContext [groupID=9, experimenter=null, sudo=false, serverInformation=null, compression=0.85]}\"\n"
      ]
     },
     "metadata": {},
     "output_type": "display_data"
    },
    {
     "data": {
      "image/png": "[encoded data removed]",
      "text/plain": [
       "plot without title"
      ]
     },
     "metadata": {},
     "output_type": "display_data"
    }
   ],
   "source": [
    "####\n",
    "# Connect to an OMERO server and import a CSV file\n",
    "####\n",
    "\n",
    "library(romero.gateway);\n",
    "\n",
    "# Connect to the server\n",
    "server <- OMEROServer(credentialsFile = \"/Users/bramalingam/Documents/Jupyter_Training/notebooks/login_credentials.txt\")\n",
    "server <- connect(server);\n",
    "\n",
    "# # Load the CSV with the original file ID 1\n",
    "df <- loadCSV(server, 134332)\n",
    "\n",
    "# # Load the image the data belongs to, image  with id 1\n",
    "image <- loadObject(server, \"ImageData\", 43201)\n",
    "\n",
    "# Create a summary of the data\n",
    "summary(df)\n",
    "\n",
    "# Add the summary as attachment to the image\n",
    "tmpfile <- \"/tmp/summary.txt\"\n",
    "sink(tmpfile)\n",
    "summary(df)\n",
    "sink()\n",
    "attachFile(image, tmpfile)\n",
    "\n",
    "# Create a simple plot\n",
    "plot(sqrt(df$Area)~df$Width)\n",
    "\n",
    "# Add the plot as attachment to the image\n",
    "tmpfile <- \"/tmp/boxplot.png\"\n",
    "png(tmpfile)\n",
    "plot(sqrt(df$Area)~df$Width)\n",
    "dev.off()\n",
    "attachFile(image, tmpfile)\n",
    "\n",
    "# Disconnect again from the server\n",
    "disconnect(server)"
   ]
  },
  {
   "cell_type": "code",
   "execution_count": null,
   "metadata": {},
   "outputs": [],
   "source": []
  }
 ],
 "metadata": {
  "kernelspec": {
   "display_name": "R",
   "language": "R",
   "name": "ir"
  },
  "language_info": {
   "codemirror_mode": "r",
   "file_extension": ".r",
   "mimetype": "text/x-r-source",
   "name": "R",
   "pygments_lexer": "r",
   "version": "3.4.1"
  }
 },
 "nbformat": 4,
 "nbformat_minor": 2
}
