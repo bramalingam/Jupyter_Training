{
 "cells": [
  {
   "cell_type": "code",
   "execution_count": 1,
   "metadata": {},
   "outputs": [],
   "source": [
    "# This line configures matplotlib to show figures embedded in the notebook, \n",
    "# instead of opening a new window for each figure. More about that later. \n",
    "# If you are using an old version of IPython, try using '%pylab inline' instead.\n",
    "%matplotlib inline"
   ]
  },
  {
   "cell_type": "markdown",
   "metadata": {},
   "source": [
    "### Import Packages"
   ]
  },
  {
   "cell_type": "code",
   "execution_count": 2,
   "metadata": {},
   "outputs": [],
   "source": [
    "from omero.gateway import BlitzGateway"
   ]
  },
  {
   "cell_type": "markdown",
   "metadata": {},
   "source": [
    "### Create Connection to an OMERO server"
   ]
  },
  {
   "cell_type": "code",
   "execution_count": 3,
   "metadata": {},
   "outputs": [],
   "source": [
    "HOST = 'demo.openmicroscopy.org'\n",
    "USERNAME = 'demo'\n",
    "PASSWORD = ''\n",
    "PORT = 4064\n",
    "conn = BlitzGateway(USERNAME, PASSWORD, host=HOST, port=PORT)\n",
    "conn.connect()\n",
    "\n",
    "# Using secure connection.\n",
    "# By default, once we have logged in, data transfer is not encrypted\n",
    "# (faster)\n",
    "# To use a secure connection, call setSecure(True):\n",
    "conn.setSecure(True)"
   ]
  },
  {
   "cell_type": "markdown",
   "metadata": {},
   "source": [
    "### Get Current Session Details"
   ]
  },
  {
   "cell_type": "code",
   "execution_count": 4,
   "metadata": {},
   "outputs": [
    {
     "name": "stdout",
     "output_type": "stream",
     "text": [
      "Current user:\n",
      "   ID: 1872\n",
      "   Username: demo\n",
      "   Full Name: Demo User\n",
      "   Is Admin: False\n",
      "[]\n",
      "Member of:\n",
      "   ID: training  Name: 153\n",
      "Current group:  training\n",
      "   Group owners:\n",
      "     ID: 1872 demo Name: Demo User\n",
      "     ID: 1873 demo2 Name: Demo Collaborator\n",
      "Owner of:\n",
      "Admins:\n",
      "   ID: 1515 mtbcarroll Name: Mark Carroll\n",
      "   ID: 793 kenny Name: Kenny Gillen\n",
      "   ID: 794 sbesson Name: Sebastien Besson\n",
      "   ID: 993 dgault Name: David Gault\n",
      "   ID: 0 root Name: root root\n",
      "   ID: 1871 training Name: Training Training\n",
      "   ID: 1108 dlindner Name: Dominik Lindner\n",
      "   ID: 910 will Name: Will Moore\n"
     ]
    }
   ],
   "source": [
    "# By default, you will have logged into your 'current' group in OMERO. This\n",
    "# can be changed by switching group in the OMERO.insight or OMERO.web clients.\n",
    "\n",
    "user = conn.getUser()\n",
    "print \"Current user:\"\n",
    "print \"   ID:\", user.getId()\n",
    "print \"   Username:\", user.getName()\n",
    "print \"   Full Name:\", user.getFullName()\n",
    "\n",
    "# Check if you are an Administrator\n",
    "print \"   Is Admin:\", conn.isAdmin()\n",
    "if not conn.isFullAdmin():\n",
    "    # If 'Restricted Administrator' show privileges\n",
    "    print conn.getCurrentAdminPrivileges()\n",
    "\n",
    "print \"Member of:\"\n",
    "for g in conn.getGroupsMemberOf():\n",
    "    print \"   ID:\", g.getName(), \" Name:\", g.getId()\n",
    "group = conn.getGroupFromContext()\n",
    "print \"Current group: \", group.getName()\n",
    "\n",
    "# List the group owners and other members\n",
    "owners, members = group.groupSummary()\n",
    "print \"   Group owners:\"\n",
    "for o in owners:\n",
    "    print \"     ID: %s %s Name: %s\" % (\n",
    "        o.getId(), o.getOmeName(), o.getFullName())\n",
    "    print \"   Group members:\"\n",
    "for m in members:\n",
    "    print \"     ID: %s %s Name: %s\" % (\n",
    "        m.getId(), m.getOmeName(), m.getFullName())\n",
    "\n",
    "print \"Owner of:\"\n",
    "for g in conn.listOwnedGroups():\n",
    "    print \"   ID: \", g.getName(), \" Name:\", g.getId()\n",
    "\n",
    "# Added in OMERO 5.0\n",
    "print \"Admins:\"\n",
    "for exp in conn.getAdministrators():\n",
    "    print \"   ID: %s %s Name: %s\" % (\n",
    "        exp.getId(), exp.getOmeName(), exp.getFullName())\n",
    "\n",
    "# The 'context' of our current session\n",
    "ctx = conn.getEventContext()\n",
    "# print ctx     # for more info"
   ]
  },
  {
   "cell_type": "code",
   "execution_count": null,
   "metadata": {},
   "outputs": [],
   "source": [
    "### Please use the followi"
   ]
  }
 ],
 "metadata": {
  "kernelspec": {
   "display_name": "OMERO Python 2",
   "language": "python",
   "name": "python2"
  },
  "language_info": {
   "codemirror_mode": {
    "name": "ipython",
    "version": 2
   },
   "file_extension": ".py",
   "mimetype": "text/x-python",
   "name": "python",
   "nbconvert_exporter": "python",
   "pygments_lexer": "ipython2",
   "version": "2.7.14"
  }
 },
 "nbformat": 4,
 "nbformat_minor": 2
}
