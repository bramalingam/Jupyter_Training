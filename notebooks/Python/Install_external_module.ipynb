{
 "cells": [
  {
   "cell_type": "code",
   "execution_count": 1,
   "metadata": {},
   "outputs": [
    {
     "name": "stdout",
     "output_type": "stream",
     "text": [
      "/Users/bramalingam/Documents/Jupyter_Training/anaconda2/bin/pip\r\n"
     ]
    }
   ],
   "source": [
    "!which pip"
   ]
  },
  {
   "cell_type": "code",
   "execution_count": 2,
   "metadata": {},
   "outputs": [
    {
     "name": "stdout",
     "output_type": "stream",
     "text": [
      "Requirement already satisfied: tqdm in /Users/bramalingam/Documents/Jupyter_Training/anaconda2/lib/python2.7/site-packages\r\n"
     ]
    }
   ],
   "source": [
    "!pip install tqdm"
   ]
  },
  {
   "cell_type": "markdown",
   "metadata": {},
   "source": [
    "### Please restart kernel "
   ]
  },
  {
   "cell_type": "code",
   "execution_count": 1,
   "metadata": {},
   "outputs": [
    {
     "name": "stderr",
     "output_type": "stream",
     "text": [
      "100%|██████████| 10000/10000 [00:00<00:00, 344923.48it/s]\n"
     ]
    }
   ],
   "source": [
    "from tqdm import tqdm\n",
    " \n",
    "for item in tqdm(range(10000)):\n",
    "    #do something\n",
    "    pass"
   ]
  },
  {
   "cell_type": "markdown",
   "metadata": {},
   "source": [
    "![Overview](1.png)"
   ]
  },
  {
   "cell_type": "markdown",
   "metadata": {},
   "source": [
    "### Install OMERO and its dependencies"
   ]
  },
  {
   "cell_type": "code",
   "execution_count": 5,
   "metadata": {},
   "outputs": [
    {
     "name": "stdout",
     "output_type": "stream",
     "text": [
      "/Users/bramalingam/Documents/Jupyter_Training/anaconda2/bin/conda\r\n"
     ]
    }
   ],
   "source": [
    "!which conda"
   ]
  },
  {
   "cell_type": "code",
   "execution_count": 4,
   "metadata": {},
   "outputs": [
    {
     "name": "stdout",
     "output_type": "stream",
     "text": [
      "Fetching package metadata ...............\n",
      "Solving package specifications: .\n",
      "\n",
      "# All requested packages already installed.\n",
      "# packages in environment at /Users/bramalingam/Documents/Jupyter_Training/anaconda2:\n",
      "#\n",
      "zeroc-ice                 3.6.3                    py27_0    bioconda\n",
      "Fetching package metadata ...............\n",
      "Solving package specifications: .\n",
      "\n",
      "Package plan for installation in environment /Users/bramalingam/Documents/Jupyter_Training/anaconda2:\n",
      "\n",
      "The following NEW packages will be INSTALLED:\n",
      "\n",
      "    python-omero: 5.4.0-py27_0 bioconda\n",
      "\n",
      "python-omero-5 100% |################################| Time: 0:00:01   2.18 MB/s       | ETA:  0:00:00   1.65 MB/s\n"
     ]
    }
   ],
   "source": [
    "!conda install -c bioconda zeroc-ice -y\n",
    "!conda install -c bioconda python-omero -y"
   ]
  },
  {
   "cell_type": "code",
   "execution_count": 7,
   "metadata": {},
   "outputs": [
    {
     "name": "stdout",
     "output_type": "stream",
     "text": [
      "/Users/bramalingam/Downloads/OMERO.server-5.3.4-ice36-b69/lib/python/:/Users/bramalingam/OME/wnd-charm/build/lib.macosx-10.12-x86_64-2.7/:/Users/bramalingam/Documents/Jupyter_Training/\r\n"
     ]
    }
   ],
   "source": [
    "!echo $PYTHONPATH"
   ]
  },
  {
   "cell_type": "code",
   "execution_count": 1,
   "metadata": {},
   "outputs": [
    {
     "data": {
      "text/plain": [
       "True"
      ]
     },
     "execution_count": 1,
     "metadata": {},
     "output_type": "execute_result"
    }
   ],
   "source": [
    "from omero.gateway import BlitzGateway\n",
    "\n",
    "HOST = 'eel.openmicroscopy.org'\n",
    "USERNAME = 'user-1'\n",
    "PASSWORD = 'ome'\n",
    "PORT = 4064\n",
    "conn = BlitzGateway(USERNAME, PASSWORD, host=HOST, port=PORT)\n",
    "conn.connect()"
   ]
  },
  {
   "cell_type": "markdown",
   "metadata": {},
   "source": [
    "### Try Examples from the following link:"
   ]
  },
  {
   "cell_type": "markdown",
   "metadata": {},
   "source": [
    "https://github.com/openmicroscopy/openmicroscopy/tree/v5.4.0/examples/Training/python"
   ]
  },
  {
   "cell_type": "code",
   "execution_count": 3,
   "metadata": {
    "collapsed": true
   },
   "outputs": [],
   "source": [
    "conn.close()"
   ]
  },
  {
   "cell_type": "code",
   "execution_count": 2,
   "metadata": {},
   "outputs": [
    {
     "name": "stdout",
     "output_type": "stream",
     "text": [
      "Created new Image:84802 Name:\"numpy image\"\n"
     ]
    }
   ],
   "source": [
    "from numpy import array, int8\n",
    "import omero\n",
    "from omero.model.enums import UnitsLength\n",
    "\n",
    "\"\"\"\n",
    "start-code\n",
    "\"\"\"\n",
    "\n",
    "# Create an image from scratch\n",
    "# ============================\n",
    "# This example demonstrates the usage of the convenience method\n",
    "# createImageFromNumpySeq() Here we create a multi-dimensional image from a\n",
    "# hard-coded array of data.\n",
    "size_x, size_y, size_z, size_c, size_t = 5, 4, 1, 2, 1\n",
    "plane1 = array(\n",
    "    [[0, 1, 2, 3, 4], [5, 6, 7, 8, 9], [0, 1, 2, 3, 4], [5, 6, 7, 8, 9]],\n",
    "    dtype=int8)\n",
    "plane2 = array(\n",
    "    [[5, 6, 7, 8, 9], [0, 1, 2, 3, 4], [5, 6, 7, 8, 9], [0, 1, 2, 3, 4]],\n",
    "    dtype=int8)\n",
    "planes = [plane1, plane2]\n",
    "\n",
    "\n",
    "def plane_gen():\n",
    "    \"\"\"generator will yield planes\"\"\"\n",
    "    for p in planes:\n",
    "        yield p\n",
    "\n",
    "\n",
    "desc = \"Image created from a hard-coded arrays\"\n",
    "i = conn.createImageFromNumpySeq(\n",
    "    plane_gen(), \"numpy image\", size_z, size_c, size_t, description=desc,\n",
    "    dataset=None)\n",
    "\n",
    "print 'Created new Image:%s Name:\"%s\"' % (i.getId(), i.getName())"
   ]
  },
  {
   "cell_type": "code",
   "execution_count": null,
   "metadata": {
    "collapsed": true
   },
   "outputs": [],
   "source": []
  }
 ],
 "metadata": {
  "kernelspec": {
   "display_name": "Python 2",
   "language": "python",
   "name": "python2"
  },
  "language_info": {
   "codemirror_mode": {
    "name": "ipython",
    "version": 2
   },
   "file_extension": ".py",
   "mimetype": "text/x-python",
   "name": "python",
   "nbconvert_exporter": "python",
   "pygments_lexer": "ipython2",
   "version": "2.7.13"
  }
 },
 "nbformat": 4,
 "nbformat_minor": 2
}
